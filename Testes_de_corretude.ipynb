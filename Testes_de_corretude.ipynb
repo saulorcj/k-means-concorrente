{
  "nbformat": 4,
  "nbformat_minor": 0,
  "metadata": {
    "colab": {
      "provenance": []
    },
    "kernelspec": {
      "name": "python3",
      "display_name": "Python 3"
    },
    "language_info": {
      "name": "python"
    }
  },
  "cells": [
    {
      "cell_type": "code",
      "execution_count": null,
      "metadata": {
        "id": "QqDWIgyYAizv"
      },
      "outputs": [],
      "source": [
        "#OBSERVAÇÃO:\n",
        "#Para executar corretamente este notebook, é preciso que os arquivos de entradas\n",
        "#e saídas sejam carregados para o armazenamento da sessão\n",
        "\n",
        "from numpy import array\n",
        "from scipy.cluster.vq import vq, kmeans, whiten\n",
        "from math import sqrt\n",
        "from sklearn.cluster import KMeans"
      ]
    },
    {
      "cell_type": "code",
      "source": [
        "\n",
        "def distancia(a,b):\n",
        "  return sqrt( pow(a[0] - b[0],2) + pow(a[1] - b[1],2) )  \n",
        "\n",
        "def centroide_proximo(ponto, clusters):\n",
        "  \n",
        "  indice_centroide = 0\n",
        "  menor_distancia = distancia(ponto,clusters[0])\n",
        "  for i in range(1, len(clusters)):\n",
        "    dist = distancia(ponto,clusters[i])\n",
        "    if(dist<menor_distancia):\n",
        "      menor_distancia = dist\n",
        "      indice_centroide = i\n",
        "  \n",
        "  return indice_centroide\n",
        "\n",
        "def verifica_corretude(origem,nclusters):\n",
        "  arq = open(origem,'r')\n",
        "  i=0\n",
        "  pontos = []\n",
        "  for linha in arq:\n",
        "    line = linha.split()\n",
        "    if(i==0): \n",
        "      npontos = int(line[0])\n",
        "\n",
        "    if(i==1):\n",
        "      dimensao = int(line[0])\n",
        "\n",
        "    if(i>1):\n",
        "      ponto = []\n",
        "      for j in range(dimensao):\n",
        "        ponto.append(float(line[j]))\n",
        "  \n",
        "      pontos.append(ponto)\n",
        "      ponto = []\n",
        "\n",
        "    i+=1\n",
        "\n",
        "  #print(npontos)\n",
        "  #print(dimensao)\n",
        "  #print(pontos)\n",
        "  arq.close()\n",
        "\n",
        "  pontos2 = array(pontos)\n",
        "  #pontos2\n",
        "\n",
        "  cent_iniciais = array([pontos2[i] for i in range(nclusters)])\n",
        "  print(\"centroides iniciais: \", cent_iniciais)\n",
        "  resultado = kmeans(pontos2,cent_iniciais,thresh=1e-06)\n",
        "\n",
        "  #conferindo com a saida\n",
        "  #primeiro verifica se os clusters são os mesmos\n",
        "  #se sim, usa a lista de clusters_c pra verificar se\n",
        "  #os pontos estão nos clusters certos\n",
        "\n",
        "  saida = origem[:len(origem)-4] #pra tirar o .txt\n",
        "  saida = saida+\"c\"+str(nclusters)+\"_res.txt\" #exemplo: p100d2c5.txt\n",
        "  arq = open(saida,'r')\n",
        "\n",
        "  clusters_py = resultado[0] #array de pontos [x,y]; resultado[1] é um outro\n",
        "                             #valor que o kmeans retorna, chamado \"distortion\"\n",
        "\n",
        "  clusters_c = []\n",
        "  pontos_centroides_c = [] #uma lista com o valor v na casa i se o ponto i está \n",
        "                           #associado ao centroide de indice v na lista de\n",
        "                           #clusters_c\n",
        "  i=0\n",
        "  for linha in arq:\n",
        "    line = linha.split()\n",
        "    if i<3: #não vou ler as primeiras 3 linhas\n",
        "      i+=1\n",
        "      continue\n",
        "\n",
        "    if(i>=3 and i<3+nclusters):\n",
        "      clusters_c.append([float(line[0]),float(line[1])])\n",
        "  \n",
        "    if(i>= 3+nclusters):\n",
        "      pontos_centroides_c.append(int(line[0]))\n",
        "    i+=1\n",
        "\n",
        "\n",
        "  print(\"Clusters do C: \", clusters_c)\n",
        "  print(\"Clusters do python: \", clusters_py)\n",
        "  #print(pontos_centroides_c)\n",
        "\n",
        "  arq.close()\n",
        "\n",
        "  #vou comparar os clusters de c com os de python agora\n",
        "  diferente=1\n",
        "  for i in range(nclusters):\n",
        "    x = clusters_py[i][0]\n",
        "    #print(x)\n",
        "    y = clusters_py[i][1]\n",
        "    #print(y)\n",
        "    diferente=1\n",
        "    for j in range(nclusters):\n",
        "      if(abs(clusters_c[j][0] - x)<1):\n",
        "        if(abs(clusters_c[j][1] - y)<1):\n",
        "          diferente = 0\n",
        "          break\n",
        "\n",
        "    j=0\n",
        "    if(diferente ==1): #se o diferente ainda é igual a 1 é porque o \n",
        "                        #ponto é diferente de todos os outros\n",
        "      print(\"os centroides são diferentes\")\n",
        "      #break\n",
        "      return\n",
        "    \n",
        "\n",
        "  #se chegou aqui é porque os clusters são iguais\n",
        "  pontos_centroides_py =[]\n",
        "  for i in range(npontos):\n",
        "    pontos_centroides_py.append(centroide_proximo(pontos[i], clusters_c))\n",
        "    #por algum motivo, se botar clusters_py aqui da certo\n",
        "    #mas da errado a partir de 10kc15\n",
        "\n",
        "\n",
        "  if(pontos_centroides_py != pontos_centroides_c):\n",
        "    print(\"os centroides estão certos, mas os pontos atribuídos a eles não\")\n",
        "    #como _py e _c estão usando a mesma lista de clusters e a mesma\n",
        "    #lista de pontos -na mesma ordem-, deveria ser igual\n",
        "    return\n",
        "  \n",
        "  #se chegou aqui está tudo certo\n",
        "  print(\"Correto!\")\n",
        "\n",
        "\n",
        "\n",
        "def verifica_corretude_sklearn(origem,nclusters):\n",
        "  arq = open(origem,'r')\n",
        "  i=0\n",
        "  pontos = []\n",
        "  for linha in arq:\n",
        "    line = linha.split()\n",
        "    if(i==0): \n",
        "      npontos = int(line[0])\n",
        "\n",
        "    if(i==1):\n",
        "      dimensao = int(line[0])\n",
        "\n",
        "    if(i>1):\n",
        "      ponto = []\n",
        "      for j in range(dimensao):\n",
        "        ponto.append(float(line[j]))\n",
        "  \n",
        "      pontos.append(ponto)\n",
        "      ponto = []\n",
        "\n",
        "    i+=1\n",
        "\n",
        "  #print(npontos)\n",
        "  #print(dimensao)\n",
        "  #print(pontos)\n",
        "  arq.close()\n",
        "\n",
        "  pontos2 = array(pontos)\n",
        "  #pontos2\n",
        "\n",
        "  cent_iniciais = array([pontos2[i] for i in range(nclusters)])\n",
        "  #print(\"centroides iniciais: \", cent_iniciais)\n",
        "  ##resultado = kmeans(pontos2,cent_iniciais,thresh=1e-06)\n",
        "  \n",
        "  kmeans = KMeans(n_clusters=nclusters,init=cent_iniciais,max_iter = 1000, tol=1e-06).fit(pontos2)\n",
        "  clusters_py=kmeans.cluster_centers_\n",
        "\n",
        "  #conferindo com a saida\n",
        "  #primeiro verifica se os clusters são os mesmos\n",
        "  #se sim, usa a lista de clusters_c pra verificar se\n",
        "  #os pontos estão nos clusters certos\n",
        "\n",
        "  saida = origem[:len(origem)-4] #pra tirar o .txt\n",
        "  saida = saida+\"c\"+str(nclusters)+\"_res.txt\" #exemplo: p100d2c5.txt\n",
        "  arq = open(saida,'r')\n",
        "\n",
        "  #clusters_py = resultado[0] #array de pontos [x,y]; resultado[1] é um outro\n",
        "                             #valor que o kmeans retorna, chamado \"distortion\"\n",
        "\n",
        "  clusters_c = []\n",
        "  pontos_centroides_c = [] #uma lista com o valor v na casa i se o ponto i está \n",
        "                           #associado ao centroide de indice v na lista de\n",
        "                           #clusters_c\n",
        "  i=0\n",
        "  for linha in arq:\n",
        "    line = linha.split()\n",
        "    if i<3: #não vou ler as primeiras 3 linhas\n",
        "      i+=1\n",
        "      continue\n",
        "\n",
        "    if(i>=3 and i<3+nclusters):\n",
        "      clusters_c.append([float(line[0]),float(line[1])])\n",
        "  \n",
        "    if(i>= 3+nclusters):\n",
        "      pontos_centroides_c.append(int(line[0]))\n",
        "    i+=1\n",
        "\n",
        "\n",
        "  #print(\"clusters do C: \", clusters_c)\n",
        "  #print(\"clusters do python: \", clusters_py)\n",
        "  #print(pontos_centroides_c)\n",
        "\n",
        "  arq.close()\n",
        "\n",
        "  #vou comparar os clusters de c com os de python agora\n",
        "  diferente=1\n",
        "  for i in range(nclusters):\n",
        "    x = clusters_py[i][0]\n",
        "    #print(x)\n",
        "    y = clusters_py[i][1]\n",
        "    #print(y)\n",
        "    diferente=1\n",
        "    for j in range(nclusters):\n",
        "      if(abs(clusters_c[j][0] - x)<1e-06):\n",
        "        if(abs(clusters_c[j][1] - y)<1e-06):\n",
        "          diferente = 0\n",
        "          break\n",
        "\n",
        "    j=0\n",
        "    if(diferente ==1): #se o diferente ainda é igual a 1 é porque o \n",
        "                        #ponto é diferente de todos os outros\n",
        "      print(\"os centroides são diferentes\")\n",
        "      #break\n",
        "      return\n",
        "    \n",
        "\n",
        "  #se chegou aqui é porque os clusters são iguais\n",
        "  pontos_centroides_py =[]\n",
        "  for i in range(npontos):\n",
        "    pontos_centroides_py.append(centroide_proximo(pontos[i], clusters_c))\n",
        "    #por algum motivo, se botar clusters_py aqui da certo\n",
        "    #mas da errado a partir de 10kc15\n",
        "\n",
        "\n",
        "  if(pontos_centroides_py != pontos_centroides_c):\n",
        "    print(\"os centroides estão certos, mas os pontos atribuídos a eles não\")\n",
        "    #como _py e _c estão usando a mesma lista de clusters e a mesma\n",
        "    #lista de pontos -na mesma ordem-, deveria ser igual\n",
        "    return\n",
        "  \n",
        "  #se chegou aqui está tudo certo\n",
        "  print(\"Correto!\")"
      ],
      "metadata": {
        "id": "ceBOdsg3Bc8P"
      },
      "execution_count": null,
      "outputs": []
    },
    {
      "cell_type": "code",
      "source": [
        "origem = 'p100d2t1.txt'\n",
        "verifica_corretude(origem,5)"
      ],
      "metadata": {
        "colab": {
          "base_uri": "https://localhost:8080/"
        },
        "id": "S_BzdL6Do0Qo",
        "outputId": "7f81330d-dc5b-444f-d19b-1c95a36e9608"
      },
      "execution_count": null,
      "outputs": [
        {
          "output_type": "stream",
          "name": "stdout",
          "text": [
            "centroides iniciais:  [[482. 227.]\n",
            " [323. 792.]\n",
            " [945. 312.]\n",
            " [289. 545.]\n",
            " [658.  22.]]\n",
            "Clusters do C:  [[296.944458, 160.333328], [176.294113, 798.882324], [706.400024, 772.75], [178.5625, 414.8125], [752.862061, 274.93103]]\n",
            "Clusters do python:  [[296.94444444 160.33333333]\n",
            " [176.29411765 798.88235294]\n",
            " [706.4        772.75      ]\n",
            " [178.5625     414.8125    ]\n",
            " [752.86206897 274.93103448]]\n",
            "Correto!\n"
          ]
        }
      ]
    },
    {
      "cell_type": "code",
      "source": [
        "verifica_corretude(origem,15)"
      ],
      "metadata": {
        "colab": {
          "base_uri": "https://localhost:8080/"
        },
        "id": "ddCYMNHajpr0",
        "outputId": "8b029fae-7ab5-46a4-834b-5bc5418356d3"
      },
      "execution_count": null,
      "outputs": [
        {
          "output_type": "stream",
          "name": "stdout",
          "text": [
            "centroides iniciais:  [[482. 227.]\n",
            " [323. 792.]\n",
            " [945. 312.]\n",
            " [289. 545.]\n",
            " [658.  22.]\n",
            " [135. 863.]\n",
            " [912. 328.]\n",
            " [817. 911.]\n",
            " [567. 782.]\n",
            " [130. 325.]\n",
            " [653. 883.]\n",
            " [181. 829.]\n",
            " [512. 528.]\n",
            " [ 52. 149.]\n",
            " [920. 120.]]\n",
            "Clusters do C:  [[382.272736, 148.090912], [353.0, 814.200012], [951.0, 324.0], [313.833344, 428.5], [659.727295, 270.090912], [111.428574, 859.0], [864.142883, 540.857117], [851.5, 849.166687], [599.75, 711.75], [116.5, 369.0], [590.400024, 916.599976], [96.75, 659.125], [520.799988, 490.799988], [96.666664, 174.555557], [780.375, 112.0]]\n",
            "Clusters do python:  [[382.27272727 148.09090909]\n",
            " [353.         814.2       ]\n",
            " [951.         324.        ]\n",
            " [313.83333333 428.5       ]\n",
            " [659.72727273 270.09090909]\n",
            " [111.42857143 859.        ]\n",
            " [864.14285714 540.85714286]\n",
            " [851.5        849.16666667]\n",
            " [599.75       711.75      ]\n",
            " [116.5        369.        ]\n",
            " [590.4        916.6       ]\n",
            " [ 96.75       659.125     ]\n",
            " [520.8        490.8       ]\n",
            " [ 96.66666667 174.55555556]\n",
            " [780.375      112.        ]]\n",
            "Correto!\n"
          ]
        }
      ]
    },
    {
      "cell_type": "code",
      "source": [
        "verifica_corretude(origem,30)"
      ],
      "metadata": {
        "colab": {
          "base_uri": "https://localhost:8080/"
        },
        "id": "sF_PWJv3x0fo",
        "outputId": "939a98ea-2ee2-4b9c-c527-d6a3956a7eca"
      },
      "execution_count": null,
      "outputs": [
        {
          "output_type": "stream",
          "name": "stdout",
          "text": [
            "centroides iniciais:  [[482. 227.]\n",
            " [323. 792.]\n",
            " [945. 312.]\n",
            " [289. 545.]\n",
            " [658.  22.]\n",
            " [135. 863.]\n",
            " [912. 328.]\n",
            " [817. 911.]\n",
            " [567. 782.]\n",
            " [130. 325.]\n",
            " [653. 883.]\n",
            " [181. 829.]\n",
            " [512. 528.]\n",
            " [ 52. 149.]\n",
            " [920. 120.]\n",
            " [110. 383.]\n",
            " [870.  85.]\n",
            " [326. 414.]\n",
            " [  5. 827.]\n",
            " [961. 343.]\n",
            " [367. 252.]\n",
            " [ 25. 211.]\n",
            " [707. 196.]\n",
            " [600. 577.]\n",
            " [990. 829.]\n",
            " [374.  33.]\n",
            " [424. 126.]\n",
            " [775. 102.]\n",
            " [377. 143.]\n",
            " [287. 483.]]\n",
            "Clusters do C:  [[464.75, 247.0], [353.0, 814.200012], [951.0, 324.0], [99.5, 604.25], [639.666687, 73.0], [118.800003, 871.400024], [845.0, 521.200012], [809.0, 895.0], [556.333313, 733.333313], [131.666672, 294.333344], [590.400024, 916.599976], [175.0, 761.5], [501.0, 469.25], [148.333328, 124.333336], [920.0, 120.0], [131.0, 410.0], [870.0, 85.0], [308.666656, 403.0], [53.0, 747.25], [994.0, 522.0], [374.0, 293.0], [46.799999, 194.199997], [700.727295, 269.636353], [665.0, 612.0], [878.0, 767.0], [347.666656, 30.0], [424.0, 126.0], [781.0, 85.0], [344.333344, 160.0], [288.0, 514.0]]\n",
            "Clusters do python:  [[464.75       247.        ]\n",
            " [353.         814.2       ]\n",
            " [951.         324.        ]\n",
            " [ 99.5        604.25      ]\n",
            " [639.66666667  73.        ]\n",
            " [118.8        871.4       ]\n",
            " [845.         521.2       ]\n",
            " [809.         895.        ]\n",
            " [556.33333333 733.33333333]\n",
            " [131.66666667 294.33333333]\n",
            " [590.4        916.6       ]\n",
            " [175.         761.5       ]\n",
            " [501.         469.25      ]\n",
            " [148.33333333 124.33333333]\n",
            " [920.         120.        ]\n",
            " [131.         410.        ]\n",
            " [870.          85.        ]\n",
            " [308.66666667 403.        ]\n",
            " [ 53.         747.25      ]\n",
            " [994.         522.        ]\n",
            " [374.         293.        ]\n",
            " [ 46.8        194.2       ]\n",
            " [700.72727273 269.63636364]\n",
            " [665.         612.        ]\n",
            " [878.         767.        ]\n",
            " [347.66666667  30.        ]\n",
            " [424.         126.        ]\n",
            " [781.          85.        ]\n",
            " [344.33333333 160.        ]\n",
            " [288.         514.        ]]\n",
            "Correto!\n"
          ]
        }
      ]
    },
    {
      "cell_type": "code",
      "source": [
        "origem = 'p100d2t4.txt'\n",
        "verifica_corretude(origem,5)"
      ],
      "metadata": {
        "colab": {
          "base_uri": "https://localhost:8080/"
        },
        "id": "mtSy6OMlx6OK",
        "outputId": "e922315d-9310-4323-de50-07441ccd3548"
      },
      "execution_count": null,
      "outputs": [
        {
          "output_type": "stream",
          "name": "stdout",
          "text": [
            "centroides iniciais:  [[981. 777.]\n",
            " [977.  37.]\n",
            " [743. 441.]\n",
            " [880. 414.]\n",
            " [ 70. 107.]]\n",
            "Clusters do C:  [[667.578918, 898.947388], [681.764709, 104.764709], [193.310349, 753.310364], [772.285706, 407.928558], [226.095245, 265.809509]]\n",
            "Clusters do python:  [[667.57894737 898.94736842]\n",
            " [681.76470588 104.76470588]\n",
            " [193.31034483 753.31034483]\n",
            " [772.28571429 407.92857143]\n",
            " [226.0952381  265.80952381]]\n",
            "Correto!\n"
          ]
        }
      ]
    },
    {
      "cell_type": "code",
      "source": [
        "verifica_corretude(origem,15)"
      ],
      "metadata": {
        "colab": {
          "base_uri": "https://localhost:8080/"
        },
        "id": "jb3xuG4bx_UH",
        "outputId": "c6e35b5e-aedf-4acc-fbc3-071ce57ead7b"
      },
      "execution_count": null,
      "outputs": [
        {
          "output_type": "stream",
          "name": "stdout",
          "text": [
            "centroides iniciais:  [[981. 777.]\n",
            " [977.  37.]\n",
            " [743. 441.]\n",
            " [880. 414.]\n",
            " [ 70. 107.]\n",
            " [782.  80.]\n",
            " [576. 916.]\n",
            " [171. 471.]\n",
            " [ 26. 816.]\n",
            " [462. 709.]\n",
            " [258. 978.]\n",
            " [706. 265.]\n",
            " [837. 468.]\n",
            " [ 43.  80.]\n",
            " [170. 985.]]\n",
            "Clusters do C:  [[882.571411, 836.142883], [937.333313, 60.333332], [682.142883, 405.571442], [859.400024, 348.200012], [289.0, 171.600006], [736.714294, 73.714287], [579.090881, 940.272705], [209.375, 428.125], [51.799999, 679.099976], [402.100006, 653.599976], [275.5, 891.833313], [503.777771, 190.555557], [837.0, 468.0], [73.5, 119.0], [145.399994, 933.799988]]\n",
            "Clusters do python:  [[882.57142857 836.14285714]\n",
            " [937.33333333  60.33333333]\n",
            " [682.14285714 405.57142857]\n",
            " [859.4        348.2       ]\n",
            " [289.         171.6       ]\n",
            " [736.71428571  73.71428571]\n",
            " [579.09090909 940.27272727]\n",
            " [209.375      428.125     ]\n",
            " [ 51.8        679.1       ]\n",
            " [402.1        653.6       ]\n",
            " [275.5        891.83333333]\n",
            " [503.77777778 190.55555556]\n",
            " [837.         468.        ]\n",
            " [ 73.5        119.        ]\n",
            " [145.4        933.8       ]]\n",
            "Correto!\n"
          ]
        }
      ]
    },
    {
      "cell_type": "code",
      "source": [
        "verifica_corretude(origem,30)"
      ],
      "metadata": {
        "colab": {
          "base_uri": "https://localhost:8080/"
        },
        "id": "7Zhz1BB2x_sQ",
        "outputId": "7534d05d-4799-4f37-a47d-de645c4e2527"
      },
      "execution_count": null,
      "outputs": [
        {
          "output_type": "stream",
          "name": "stdout",
          "text": [
            "centroides iniciais:  [[981. 777.]\n",
            " [977.  37.]\n",
            " [743. 441.]\n",
            " [880. 414.]\n",
            " [ 70. 107.]\n",
            " [782.  80.]\n",
            " [576. 916.]\n",
            " [171. 471.]\n",
            " [ 26. 816.]\n",
            " [462. 709.]\n",
            " [258. 978.]\n",
            " [706. 265.]\n",
            " [837. 468.]\n",
            " [ 43.  80.]\n",
            " [170. 985.]\n",
            " [288. 821.]\n",
            " [686. 906.]\n",
            " [200. 102.]\n",
            " [ 89.  46.]\n",
            " [578. 983.]\n",
            " [153. 341.]\n",
            " [ 47. 699.]\n",
            " [518. 119.]\n",
            " [771. 863.]\n",
            " [581.  24.]\n",
            " [ 84. 425.]\n",
            " [481. 991.]\n",
            " [522. 449.]\n",
            " [935. 136.]\n",
            " [ 16. 160.]]\n",
            "Clusters do C:  [[948.666687, 717.0], [938.5, 22.5], [712.5, 450.5], [880.5, 351.5], [70.0, 107.0], [759.400024, 59.599998], [596.0, 880.666687], [222.25, 518.0], [25.75, 821.75], [458.0, 687.0], [269.666656, 954.666687], [739.25, 279.25], [837.0, 468.0], [43.0, 80.0], [171.0, 951.75], [277.399994, 768.400024], [669.666687, 933.0], [331.0, 171.0], [134.0, 78.0], [556.0, 982.0], [170.5, 297.0], [65.428574, 623.714294], [502.285706, 182.714279], [833.0, 925.5], [564.5, 54.0], [84.0, 425.0], [487.0, 979.333313], [420.799988, 415.600006], [935.0, 136.0], [16.0, 160.0]]\n",
            "Clusters do python:  [[948.66666667 717.        ]\n",
            " [938.5         22.5       ]\n",
            " [712.5        450.5       ]\n",
            " [880.5        351.5       ]\n",
            " [ 70.         107.        ]\n",
            " [759.4         59.6       ]\n",
            " [596.         880.66666667]\n",
            " [222.25       518.        ]\n",
            " [ 25.75       821.75      ]\n",
            " [458.         687.        ]\n",
            " [269.66666667 954.66666667]\n",
            " [739.25       279.25      ]\n",
            " [837.         468.        ]\n",
            " [ 43.          80.        ]\n",
            " [171.         951.75      ]\n",
            " [277.4        768.4       ]\n",
            " [669.66666667 933.        ]\n",
            " [331.         171.        ]\n",
            " [134.          78.        ]\n",
            " [556.         982.        ]\n",
            " [170.5        297.        ]\n",
            " [ 65.42857143 623.71428571]\n",
            " [502.28571429 182.71428571]\n",
            " [833.         925.5       ]\n",
            " [564.5         54.        ]\n",
            " [ 84.         425.        ]\n",
            " [487.         979.33333333]\n",
            " [420.8        415.6       ]\n",
            " [935.         136.        ]\n",
            " [ 16.         160.        ]]\n",
            "Correto!\n"
          ]
        }
      ]
    },
    {
      "cell_type": "code",
      "source": [
        "origem = 'p10kd2t1.txt'\n",
        "verifica_corretude(origem,5)"
      ],
      "metadata": {
        "colab": {
          "base_uri": "https://localhost:8080/"
        },
        "id": "mbsIz8ynyAB1",
        "outputId": "156b715f-dc37-445e-942d-5c3e23da13c6"
      },
      "execution_count": null,
      "outputs": [
        {
          "output_type": "stream",
          "name": "stdout",
          "text": [
            "centroides iniciais:  [[443. 990.]\n",
            " [ 34.  65.]\n",
            " [697. 215.]\n",
            " [873. 621.]\n",
            " [277. 226.]]\n",
            "Clusters do C:  [[263.207245, 831.94989], [240.618835, 158.790024], [749.031494, 238.635178], [765.932861, 737.881592], [274.220428, 492.300934]]\n",
            "Clusters do python:  [[263.20724234 831.94986072]\n",
            " [240.46087492 158.77510783]\n",
            " [748.92572388 238.61183382]\n",
            " [765.93286072 737.88156797]\n",
            " [274.22043309 492.30094392]]\n",
            "Correto!\n"
          ]
        }
      ]
    },
    {
      "cell_type": "code",
      "source": [
        "verifica_corretude(origem,15)"
      ],
      "metadata": {
        "colab": {
          "base_uri": "https://localhost:8080/"
        },
        "id": "ZevOq1cFyAc9",
        "outputId": "39ee54f2-21d2-4826-9fae-bfcd3ac3f3c1"
      },
      "execution_count": null,
      "outputs": [
        {
          "output_type": "stream",
          "name": "stdout",
          "text": [
            "centroides iniciais:  [[443. 990.]\n",
            " [ 34.  65.]\n",
            " [697. 215.]\n",
            " [873. 621.]\n",
            " [277. 226.]\n",
            " [851. 743.]\n",
            " [841. 386.]\n",
            " [910. 530.]\n",
            " [761.  89.]\n",
            " [542. 179.]\n",
            " [443. 778.]\n",
            " [369. 177.]\n",
            " [501. 415.]\n",
            " [929. 125.]\n",
            " [278. 652.]]\n",
            "Clusters do C:  [[156.606323, 885.232788], [124.041031, 123.43161], [624.72583, 359.72583], [625.309265, 629.92511], [121.497643, 377.285706], [818.277771, 881.608582], [866.5, 400.250793], [883.754395, 646.677368], [619.78186, 122.554535], [377.033691, 138.632462], [479.18927, 881.181213], [373.010956, 410.194061], [358.513763, 668.145264], [878.759949, 132.680435], [117.157051, 631.69873]]\n",
            "Clusters do python:  [[162.19852941 887.96176471]\n",
            " [126.46704871 129.73782235]\n",
            " [603.55502392 371.79425837]\n",
            " [640.84797768 638.31799163]\n",
            " [112.49172185 397.19205298]\n",
            " [818.26996198 882.41191381]\n",
            " [856.82701062 394.50986343]\n",
            " [892.33668342 644.32328308]\n",
            " [630.34769231 128.98769231]\n",
            " [389.47909968 125.6977492 ]\n",
            " [472.44201031 876.83634021]\n",
            " [350.49918434 374.55791191]\n",
            " [368.90322581 634.65918654]\n",
            " [881.68495298 130.81974922]\n",
            " [116.00810373 651.1636953 ]]\n",
            "os centroides são diferentes\n"
          ]
        }
      ]
    },
    {
      "cell_type": "code",
      "source": [
        "verifica_corretude(origem,30)"
      ],
      "metadata": {
        "colab": {
          "base_uri": "https://localhost:8080/"
        },
        "id": "dK5k8gh5yAyd",
        "outputId": "9677b1c8-b009-4689-ecad-37d2e27c9490"
      },
      "execution_count": null,
      "outputs": [
        {
          "output_type": "stream",
          "name": "stdout",
          "text": [
            "centroides iniciais:  [[443. 990.]\n",
            " [ 34.  65.]\n",
            " [697. 215.]\n",
            " [873. 621.]\n",
            " [277. 226.]\n",
            " [851. 743.]\n",
            " [841. 386.]\n",
            " [910. 530.]\n",
            " [761.  89.]\n",
            " [542. 179.]\n",
            " [443. 778.]\n",
            " [369. 177.]\n",
            " [501. 415.]\n",
            " [929. 125.]\n",
            " [278. 652.]\n",
            " [234. 380.]\n",
            " [200. 699.]\n",
            " [196. 418.]\n",
            " [660. 378.]\n",
            " [954. 498.]\n",
            " [806. 402.]\n",
            " [876. 724.]\n",
            " [514. 561.]\n",
            " [211.  61.]\n",
            " [152. 130.]\n",
            " [387. 749.]\n",
            " [268. 196.]\n",
            " [  6. 357.]\n",
            " [753. 296.]\n",
            " [ 62. 879.]]\n",
            "Clusters do C:  [[362.775208, 920.87854], [82.13308, 76.038025], [580.707764, 221.361038], [727.293152, 726.923279], [412.559509, 334.491058], [747.224243, 912.548462], [915.506042, 264.272736], [909.504089, 668.612488], [747.904602, 121.347694], [590.644165, 67.962547], [562.577271, 888.457703], [417.844391, 108.438042], [483.395355, 542.700562], [908.937317, 80.993401], [298.157562, 613.039368], [264.490509, 451.93988], [88.933525, 731.528931], [96.253822, 555.749207], [580.260864, 393.75], [908.122803, 475.084808], [711.331665, 549.039307], [915.724976, 879.219421], [503.092499, 712.692505], [247.584198, 86.065292], [74.3629, 223.528229], [296.818726, 773.504517], [251.411377, 257.511719], [91.195511, 386.480774], [747.363892, 348.511108], [120.274559, 912.874084]]\n",
            "Clusters do python:  [[362.7751938  920.87855297]\n",
            " [ 82.13307985  76.03802281]\n",
            " [580.70773639 221.36103152]\n",
            " [727.29315068 726.92328767]\n",
            " [412.55952381 334.49107143]\n",
            " [747.22424242 912.54848485]\n",
            " [915.50606061 264.27272727]\n",
            " [909.50406504 668.61246612]\n",
            " [747.90461538 121.34769231]\n",
            " [590.64419476  67.96254682]\n",
            " [562.57725948 888.45772595]\n",
            " [417.8443804  108.43804035]\n",
            " [483.39534884 542.7005814 ]\n",
            " [908.93729373  80.99339934]\n",
            " [298.15757576 613.03939394]\n",
            " [264.49050633 451.93987342]\n",
            " [ 88.93352601 731.52890173]\n",
            " [ 96.25382263 555.74923547]\n",
            " [580.26086957 393.75      ]\n",
            " [908.12280702 475.08479532]\n",
            " [711.33169533 549.03931204]\n",
            " [915.725      879.21944444]\n",
            " [503.0925     712.6925    ]\n",
            " [247.58419244  86.0652921 ]\n",
            " [ 74.36290323 223.52822581]\n",
            " [296.81873112 773.50453172]\n",
            " [251.41137124 257.51170569]\n",
            " [ 91.19551282 386.48076923]\n",
            " [747.36388889 348.51111111]\n",
            " [120.27455919 912.87405542]]\n",
            "Correto!\n"
          ]
        }
      ]
    },
    {
      "cell_type": "code",
      "source": [
        "origem = 'p10kd2t6.txt'\n",
        "verifica_corretude(origem,5)"
      ],
      "metadata": {
        "id": "4aEQpBShyBJB",
        "colab": {
          "base_uri": "https://localhost:8080/"
        },
        "outputId": "0a937fe8-db88-4b5e-c19b-3f12bae8e52c"
      },
      "execution_count": null,
      "outputs": [
        {
          "output_type": "stream",
          "name": "stdout",
          "text": [
            "centroides iniciais:  [[485. 879.]\n",
            " [892. 208.]\n",
            " [714. 494.]\n",
            " [567. 335.]\n",
            " [551. 837.]]\n",
            "Clusters do C:  [[226.909012, 745.532288], [754.989868, 161.723145], [683.983337, 495.125793], [244.667633, 238.043732], [747.113953, 827.051453]]\n",
            "Clusters do python:  [[226.90901361 745.53231293]\n",
            " [754.9898568  161.72315036]\n",
            " [683.98333333 495.12580645]\n",
            " [244.66763848 238.04373178]\n",
            " [747.11396844 827.05143191]]\n",
            "Correto!\n"
          ]
        }
      ]
    },
    {
      "cell_type": "code",
      "source": [
        "verifica_corretude(origem,15)"
      ],
      "metadata": {
        "id": "qh3f_Gk5Nu2C",
        "colab": {
          "base_uri": "https://localhost:8080/"
        },
        "outputId": "693e6def-49af-4fb3-c991-2acdcb52ad26"
      },
      "execution_count": null,
      "outputs": [
        {
          "output_type": "stream",
          "name": "stdout",
          "text": [
            "centroides iniciais:  [[485. 879.]\n",
            " [892. 208.]\n",
            " [714. 494.]\n",
            " [567. 335.]\n",
            " [551. 837.]\n",
            " [928. 316.]\n",
            " [734. 112.]\n",
            " [496. 550.]\n",
            " [715. 241.]\n",
            " [342.  88.]\n",
            " [773. 654.]\n",
            " [954.  63.]\n",
            " [732. 339.]\n",
            " [796. 701.]\n",
            " [115. 514.]]\n",
            "Clusters do C:  [[151.468384, 887.484192], [672.236145, 351.832245], [630.563965, 631.741394], [151.338242, 391.602936], [489.393677, 883.452698], [885.241455, 425.875], [370.392212, 139.509094], [349.76889, 658.548523], [617.568176, 111.722404], [117.755486, 137.376175], [881.033752, 679.745361], [876.630676, 131.357147], [433.062927, 410.005585], [814.436523, 899.153259], [114.557533, 646.076172]]\n",
            "Clusters do python:  [[151.4683908  887.4841954 ]\n",
            " [672.23615635 351.83224756]\n",
            " [630.56396149 631.74140303]\n",
            " [151.53404539 391.50333778]\n",
            " [489.39368999 883.4526749 ]\n",
            " [885.24143836 425.875     ]\n",
            " [370.39220779 139.50909091]\n",
            " [349.76887519 658.54853621]\n",
            " [617.56818182 111.7224026 ]\n",
            " [117.75548589 137.37617555]\n",
            " [881.03372681 679.74536256]\n",
            " [876.63069909 131.35714286]\n",
            " [433.25210084 410.13585434]\n",
            " [814.43653251 899.15325077]\n",
            " [114.55753647 646.07617504]]\n",
            "Correto!\n"
          ]
        }
      ]
    },
    {
      "cell_type": "code",
      "source": [
        "verifica_corretude(origem,30)"
      ],
      "metadata": {
        "id": "eOM7Ir4eUtSl",
        "colab": {
          "base_uri": "https://localhost:8080/"
        },
        "outputId": "882af5f7-b8ed-4806-c30a-426d5739e64c"
      },
      "execution_count": null,
      "outputs": [
        {
          "output_type": "stream",
          "name": "stdout",
          "text": [
            "centroides iniciais:  [[485. 879.]\n",
            " [892. 208.]\n",
            " [714. 494.]\n",
            " [567. 335.]\n",
            " [551. 837.]\n",
            " [928. 316.]\n",
            " [734. 112.]\n",
            " [496. 550.]\n",
            " [715. 241.]\n",
            " [342.  88.]\n",
            " [773. 654.]\n",
            " [954.  63.]\n",
            " [732. 339.]\n",
            " [796. 701.]\n",
            " [115. 514.]\n",
            " [478. 246.]\n",
            " [463. 368.]\n",
            " [311. 201.]\n",
            " [385. 393.]\n",
            " [714. 545.]\n",
            " [ 25. 151.]\n",
            " [406. 693.]\n",
            " [347. 975.]\n",
            " [527. 773.]\n",
            " [775. 629.]\n",
            " [181. 638.]\n",
            " [107. 322.]\n",
            " [979.  87.]\n",
            " [652. 882.]\n",
            " [955. 701.]]\n",
            "Clusters do C:  [[307.693237, 909.625793], [888.260315, 235.161911], [743.008789, 547.412292], [577.929871, 397.091461], [523.858459, 916.667664], [918.713867, 436.867706], [510.286926, 72.82386], [391.972015, 574.206299], [642.741943, 226.919357], [298.504028, 85.948784], [606.511963, 734.56311], [726.05542, 80.483963], [759.504883, 358.744324], [779.442017, 733.12854], [87.608833, 567.933777], [436.122955, 229.0], [407.941711, 403.06134], [234.017288, 266.475494], [230.239365, 471.63031], [558.599976, 575.578125], [93.720695, 110.72818], [247.032089, 692.708557], [108.562325, 918.362854], [424.593536, 760.574219], [921.554199, 646.635559], [83.404907, 749.082825], [72.247124, 338.985626], [916.257141, 73.328575], [713.662415, 915.229309], [910.575439, 893.036316]]\n",
            "Clusters do python:  [[308.15337423 909.27300613]\n",
            " [888.26031746 235.16190476]\n",
            " [743.00877193 547.4122807 ]\n",
            " [577.92987805 397.09146341]\n",
            " [523.57668712 916.50920245]\n",
            " [918.71384615 436.86769231]\n",
            " [510.28693182  72.82386364]\n",
            " [392.06028369 573.0248227 ]\n",
            " [642.74193548 226.91935484]\n",
            " [298.50404313  85.94878706]\n",
            " [608.04482759 734.33448276]\n",
            " [726.05539359  80.48396501]\n",
            " [759.50485437 358.74433657]\n",
            " [779.87147335 732.96865204]\n",
            " [ 87.60883281 567.93375394]\n",
            " [436.12295082 229.        ]\n",
            " [407.94171779 403.06134969]\n",
            " [234.01729107 266.47550432]\n",
            " [230.2393617  471.63031915]\n",
            " [558.6        575.578125  ]\n",
            " [ 93.72069825 110.72817955]\n",
            " [247.9021164  692.90740741]\n",
            " [108.84254144 918.43370166]\n",
            " [426.68910256 759.12179487]\n",
            " [921.82779456 646.60422961]\n",
            " [ 83.40490798 749.08282209]\n",
            " [ 72.24712644 338.98563218]\n",
            " [916.25714286  73.32857143]\n",
            " [713.66242038 915.22929936]\n",
            " [910.57541899 893.03631285]]\n",
            "os centroides são diferentes\n"
          ]
        }
      ]
    },
    {
      "cell_type": "code",
      "source": [
        "origem = 'p1Md2t1.txt'\n",
        "verifica_corretude(origem,5)"
      ],
      "metadata": {
        "colab": {
          "base_uri": "https://localhost:8080/"
        },
        "id": "FUH0sONC8oeZ",
        "outputId": "7ba4e472-64c6-4d48-e3b6-1606dd2e10a0"
      },
      "execution_count": null,
      "outputs": [
        {
          "output_type": "stream",
          "name": "stdout",
          "text": [
            "centroides iniciais:  [[626. 309.]\n",
            " [387. 123.]\n",
            " [489. 503.]\n",
            " [330. 534.]\n",
            " [654. 614.]]\n",
            "Clusters do C:  [[775.848694, 218.71019], [219.326828, 219.475586], [498.130585, 496.106964], [219.439362, 775.655884], [776.044189, 775.978271]]\n",
            "Clusters do python:  [[776.08393925 218.67832675]\n",
            " [218.93324422 219.15629088]\n",
            " [497.442721   494.51048565]\n",
            " [219.63886325 775.61553829]\n",
            " [775.67737697 775.70093965]]\n",
            "os centroides são diferentes\n"
          ]
        }
      ]
    },
    {
      "cell_type": "code",
      "source": [
        "verifica_corretude(origem,15)"
      ],
      "metadata": {
        "colab": {
          "base_uri": "https://localhost:8080/"
        },
        "id": "I4eoU4hm9H7m",
        "outputId": "975fa222-9cbf-4ace-8698-a8c7f25ebe58"
      },
      "execution_count": null,
      "outputs": [
        {
          "output_type": "stream",
          "name": "stdout",
          "text": [
            "centroides iniciais:  [[626. 309.]\n",
            " [387. 123.]\n",
            " [489. 503.]\n",
            " [330. 534.]\n",
            " [654. 614.]\n",
            " [568. 210.]\n",
            " [434. 708.]\n",
            " [487. 424.]\n",
            " [241.  93.]\n",
            " [759. 841.]\n",
            " [119. 974.]\n",
            " [232. 779.]\n",
            " [ 68. 114.]\n",
            " [560. 259.]\n",
            " [ 60. 335.]]\n",
            "Clusters do C:  [[867.611084, 389.603729], [622.989319, 114.675529], [625.413208, 634.003662], [359.21228, 707.994385], [880.646423, 640.562805], [873.587952, 131.423645], [519.947083, 893.070129], [373.28244, 443.959778], [372.769043, 149.366806], [836.105225, 882.028931], [157.286301, 886.890747], [117.410583, 622.198547], [124.499054, 117.217796], [613.099915, 361.837646], [129.149338, 361.568024]]\n",
            "Clusters do python:  [[867.67776519 386.63249189]\n",
            " [623.63253805 116.53323805]\n",
            " [625.07988423 637.36061704]\n",
            " [358.83563418 707.7674617 ]\n",
            " [880.13191941 637.70609348]\n",
            " [873.72275236 130.16783609]\n",
            " [519.00107624 893.86645918]\n",
            " [372.86253779 443.93540549]\n",
            " [373.43568208 149.3596525 ]\n",
            " [836.64074513 881.46756593]\n",
            " [157.02021852 886.76846844]\n",
            " [117.28253249 621.98864176]\n",
            " [124.70342081 117.09495365]\n",
            " [612.91432972 365.95430315]\n",
            " [129.08963538 361.23712479]]\n",
            "os centroides são diferentes\n"
          ]
        }
      ]
    },
    {
      "cell_type": "code",
      "source": [
        "verifica_corretude(origem,30)"
      ],
      "metadata": {
        "colab": {
          "base_uri": "https://localhost:8080/"
        },
        "id": "r7eNztUa9KPG",
        "outputId": "305ce242-dfe1-47e0-f5d0-1ca19a1916fb"
      },
      "execution_count": null,
      "outputs": [
        {
          "output_type": "stream",
          "name": "stdout",
          "text": [
            "centroides iniciais:  [[626. 309.]\n",
            " [387. 123.]\n",
            " [489. 503.]\n",
            " [330. 534.]\n",
            " [654. 614.]\n",
            " [568. 210.]\n",
            " [434. 708.]\n",
            " [487. 424.]\n",
            " [241.  93.]\n",
            " [759. 841.]\n",
            " [119. 974.]\n",
            " [232. 779.]\n",
            " [ 68. 114.]\n",
            " [560. 259.]\n",
            " [ 60. 335.]\n",
            " [447. 390.]\n",
            " [674. 177.]\n",
            " [273. 787.]\n",
            " [478. 861.]\n",
            " [  3. 492.]\n",
            " [132. 361.]\n",
            " [626. 621.]\n",
            " [223. 538.]\n",
            " [425. 379.]\n",
            " [ 37. 869.]\n",
            " [  1. 497.]\n",
            " [853. 938.]\n",
            " [494. 582.]\n",
            " [463. 902.]\n",
            " [120. 219.]]\n",
            "Clusters do C:  [[893.050964, 282.14621], [539.725708, 84.319801], [598.556885, 585.986023], [414.460724, 573.607544], [920.279724, 484.900635], [736.711548, 90.327705], [480.063232, 748.053284], [733.58313, 417.176788], [330.364075, 79.952217], [911.90564, 707.757385], [106.671043, 914.772156], [282.504944, 740.243103], [110.788124, 76.49881], [663.039124, 251.677032], [75.354279, 238.301056], [533.044128, 409.655426], [913.728943, 95.005684], [318.385071, 913.827271], [718.661316, 920.004272], [109.981323, 401.944275], [328.73468, 401.404449], [776.203125, 594.692078], [235.427917, 562.779907], [449.772278, 243.642593], [93.300079, 742.51123], [72.307144, 570.490234], [904.796387, 900.786011], [694.16156, 757.890137], [523.578796, 915.213074], [249.454742, 239.338699]]\n",
            "Clusters do python:  [[894.09444259 283.80022652]\n",
            " [540.94560009  83.80080636]\n",
            " [596.62080445 586.17151758]\n",
            " [414.18885286 571.23872163]\n",
            " [920.19631809 487.47885921]\n",
            " [737.55061663  89.81832431]\n",
            " [474.63715619 747.70687175]\n",
            " [734.64091111 418.24596953]\n",
            " [330.84131004  79.92356175]\n",
            " [910.6755543  709.16650191]\n",
            " [107.01447887 915.37264789]\n",
            " [277.12623545 735.15869349]\n",
            " [111.05141942  76.07319843]\n",
            " [666.15203651 251.19531759]\n",
            " [ 75.37816553 237.04761389]\n",
            " [535.64059944 408.0643842 ]\n",
            " [913.88851611  95.69678968]\n",
            " [318.07819081 912.39075618]\n",
            " [719.52550482 919.46436584]\n",
            " [108.53084491 401.03434606]\n",
            " [331.83750515 397.33974321]\n",
            " [774.53290449 596.19301495]\n",
            " [236.39113433 554.55513933]\n",
            " [452.40461653 241.65256888]\n",
            " [ 91.47807927 744.1383079 ]\n",
            " [ 73.72808214 572.56415596]\n",
            " [904.95699202 901.05000861]\n",
            " [690.03856884 757.81549656]\n",
            " [523.74778748 914.96933969]\n",
            " [249.32389    239.01499462]]\n",
            "os centroides são diferentes\n"
          ]
        }
      ]
    },
    {
      "cell_type": "code",
      "source": [
        "origem = 'p1Md2t6.txt'\n",
        "verifica_corretude(origem,5)"
      ],
      "metadata": {
        "colab": {
          "base_uri": "https://localhost:8080/"
        },
        "id": "GTx2EKcb9RCX",
        "outputId": "06cb6bf1-7ead-443f-df82-16b18a3a77e3"
      },
      "execution_count": null,
      "outputs": [
        {
          "output_type": "stream",
          "name": "stdout",
          "text": [
            "centroides iniciais:  [[721. 100.]\n",
            " [160.  63.]\n",
            " [700. 307.]\n",
            " [287. 947.]\n",
            " [738. 160.]]\n",
            "Clusters do C:  [[499.066681, 285.115326], [164.340744, 248.483261], [750.328674, 757.592346], [246.022568, 757.789001], [833.101135, 249.131927]]\n",
            "Clusters do python:  [[499.06671427 285.11531512]\n",
            " [164.34075522 248.48327048]\n",
            " [750.32897312 757.59192321]\n",
            " [246.02256026 757.788508  ]\n",
            " [833.10022744 249.13192832]]\n",
            "Correto!\n"
          ]
        }
      ]
    },
    {
      "cell_type": "code",
      "source": [
        "verifica_corretude(origem,15)"
      ],
      "metadata": {
        "colab": {
          "base_uri": "https://localhost:8080/"
        },
        "id": "W20JYu9I9qhW",
        "outputId": "654f5e85-7b86-45ea-8690-8f7d2f821800"
      },
      "execution_count": null,
      "outputs": [
        {
          "output_type": "stream",
          "name": "stdout",
          "text": [
            "centroides iniciais:  [[721. 100.]\n",
            " [160.  63.]\n",
            " [700. 307.]\n",
            " [287. 947.]\n",
            " [738. 160.]\n",
            " [279. 487.]\n",
            " [869. 799.]\n",
            " [468. 708.]\n",
            " [299. 369.]\n",
            " [ 82. 928.]\n",
            " [489. 169.]\n",
            " [678. 826.]\n",
            " [570. 139.]\n",
            " [916. 302.]\n",
            " [712. 678.]]\n",
            "Clusters do C:  [[882.216797, 124.998344], [112.079659, 156.969803], [555.2229, 374.244141], [357.736908, 881.21167], [847.475708, 372.486511], [105.506592, 517.83667], [867.066589, 873.051575], [362.833374, 625.467224], [290.294006, 360.021454], [116.705002, 835.28186], [375.00473, 118.821983], [608.302429, 868.772156], [636.457825, 128.41774], [882.795105, 621.161438], [636.00116, 614.253113]]\n",
            "Clusters do python:  [[881.93952385 124.55792595]\n",
            " [111.95587074 157.20642269]\n",
            " [555.44683358 374.99989816]\n",
            " [356.84153395 881.33965297]\n",
            " [847.35689485 371.50880734]\n",
            " [105.8374786  518.17323078]\n",
            " [866.80968354 872.56751673]\n",
            " [363.79282857 625.76585935]\n",
            " [290.48345467 360.22949166]\n",
            " [116.51521993 835.14085662]\n",
            " [374.5788383  118.89835131]\n",
            " [607.48102431 869.27783153]\n",
            " [635.73950092 128.55108916]\n",
            " [883.44679963 619.90773034]\n",
            " [637.2362615  615.11564657]]\n",
            "os centroides são diferentes\n"
          ]
        }
      ]
    },
    {
      "cell_type": "code",
      "source": [
        "verifica_corretude(origem,30)"
      ],
      "metadata": {
        "colab": {
          "base_uri": "https://localhost:8080/"
        },
        "id": "vdL92SP69y3o",
        "outputId": "e2c3b5a1-e3b7-42e1-89b9-f0dd4edbe749"
      },
      "execution_count": null,
      "outputs": [
        {
          "output_type": "stream",
          "name": "stdout",
          "text": [
            "centroides iniciais:  [[721. 100.]\n",
            " [160.  63.]\n",
            " [700. 307.]\n",
            " [287. 947.]\n",
            " [738. 160.]\n",
            " [279. 487.]\n",
            " [869. 799.]\n",
            " [468. 708.]\n",
            " [299. 369.]\n",
            " [ 82. 928.]\n",
            " [489. 169.]\n",
            " [678. 826.]\n",
            " [570. 139.]\n",
            " [916. 302.]\n",
            " [712. 678.]\n",
            " [170. 763.]\n",
            " [690. 367.]\n",
            " [925. 148.]\n",
            " [558. 400.]\n",
            " [723. 132.]\n",
            " [849. 889.]\n",
            " [217. 133.]\n",
            " [653. 606.]\n",
            " [ 78. 906.]\n",
            " [770.  40.]\n",
            " [343. 227.]\n",
            " [145. 177.]\n",
            " [388. 905.]\n",
            " [212.   2.]\n",
            " [963. 403.]]\n",
            "Clusters do C:  [[579.890381, 88.453484], [78.232483, 105.060654], [582.622437, 432.652466], [267.185547, 906.987976], [762.615662, 415.06665], [78.093628, 529.830261], [912.587341, 691.276672], [351.538483, 751.217041], [215.566574, 421.069031], [86.595261, 908.114624], [488.070435, 263.785034], [683.85791, 921.738892], [405.037292, 91.673584], [904.32312, 288.916534], [755.996765, 763.833801], [267.973419, 598.432861], [704.837402, 591.778625], [919.44397, 97.136604], [479.537476, 595.348633], [688.737976, 254.639572], [902.394226, 902.22998], [282.054688, 252.645218], [565.25592, 751.455933], [109.171783, 725.819214], [755.844055, 90.350838], [391.166534, 429.35379], [83.31469, 304.880493], [470.846466, 915.535828], [235.751404, 83.742844], [913.976379, 500.867859]]\n",
            "Clusters do python:  [[579.79910573  88.40331071]\n",
            " [ 78.22222557 105.22581618]\n",
            " [582.64308326 432.41142038]\n",
            " [267.3264217  906.86800817]\n",
            " [762.47911687 414.58904382]\n",
            " [ 78.12471755 530.55289491]\n",
            " [912.95698288 690.86437163]\n",
            " [352.77062262 751.36822567]\n",
            " [215.44527447 421.73330178]\n",
            " [ 86.5999123  908.24157479]\n",
            " [487.79248785 263.89503609]\n",
            " [684.07731305 921.70064578]\n",
            " [404.95765988  91.74323382]\n",
            " [904.32406876 288.64515865]\n",
            " [756.87948692 763.81340452]\n",
            " [268.34652772 599.14385381]\n",
            " [705.25447311 591.62491767]\n",
            " [919.47641494  97.0085823 ]\n",
            " [480.3864185  595.24525229]\n",
            " [688.48128664 254.40709454]\n",
            " [902.55270278 902.28853958]\n",
            " [281.83364623 253.01026694]\n",
            " [566.20976867 751.47848109]\n",
            " [109.4609308  726.22081167]\n",
            " [755.86970198  90.35266076]\n",
            " [391.0297318  429.79678161]\n",
            " [ 83.25970805 305.39835776]\n",
            " [471.13945917 915.57816166]\n",
            " [235.7659847   83.82556167]\n",
            " [913.78631012 500.36898775]]\n",
            "os centroides são diferentes\n"
          ]
        }
      ]
    },
    {
      "cell_type": "code",
      "source": [],
      "metadata": {
        "id": "9956FxtV94ib"
      },
      "execution_count": null,
      "outputs": []
    }
  ]
}